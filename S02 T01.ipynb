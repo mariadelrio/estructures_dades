{
 "cells": [
  {
   "cell_type": "markdown",
   "id": "5b14e31a",
   "metadata": {},
   "source": [
    "# Excerci 1\n",
    "Crea una llista que agrupi els mesos de l’any en trimestres \n",
    "\n",
    "(1T: Gener, Febrer i Març, 2T: Abril, Maig, Juny...), \n",
    "\n",
    "és a dir, una llista amb 4 llistes dins."
   ]
  },
  {
   "cell_type": "code",
   "execution_count": 1,
   "id": "60d0495c",
   "metadata": {
    "ExecuteTime": {
     "end_time": "2022-03-23T11:08:55.508205Z",
     "start_time": "2022-03-23T11:08:55.496579Z"
    }
   },
   "outputs": [],
   "source": [
    "t1 = [\"gener\", \"febrer\", \"març\"]\n",
    "t2 = [\"abril\", \"maig\", \"juny\"]\n",
    "t3 = [\"juliol\", \"agost\", \"setembre\"]\n",
    "t4 = [\"octubre\", \"novembre\", \"desembre\"]\n",
    "\n",
    "listoflists= []\n",
    "listoflists.append(t1)\n",
    "listoflists.append(t2)\n",
    "listoflists.append(t3)\n",
    "listoflists.append(t4)"
   ]
  },
  {
   "cell_type": "code",
   "execution_count": 2,
   "id": "e91ce228",
   "metadata": {
    "ExecuteTime": {
     "end_time": "2022-03-23T11:08:57.180641Z",
     "start_time": "2022-03-23T11:08:57.176008Z"
    }
   },
   "outputs": [
    {
     "name": "stdout",
     "output_type": "stream",
     "text": [
      "[['gener', 'febrer', 'març'], ['abril', 'maig', 'juny'], ['juliol', 'agost', 'setembre'], ['octubre', 'novembre', 'desembre']]\n"
     ]
    }
   ],
   "source": [
    "print(listoflists)"
   ]
  },
  {
   "cell_type": "markdown",
   "id": "9cfe44ee",
   "metadata": {},
   "source": [
    "# Exercici 2\n",
    "\n",
    "Crea un codi que et permeti accedir a:\n",
    "\n",
    "* El segon mes del primer trimestre\n",
    "\n",
    "* Els mesos del primer trimestre\n",
    "\n",
    "* Setembre i octubre"
   ]
  },
  {
   "cell_type": "code",
   "execution_count": 3,
   "id": "ded39b97",
   "metadata": {
    "ExecuteTime": {
     "end_time": "2022-03-23T11:08:59.343635Z",
     "start_time": "2022-03-23T11:08:59.339686Z"
    }
   },
   "outputs": [
    {
     "name": "stdout",
     "output_type": "stream",
     "text": [
      "febrer\n"
     ]
    }
   ],
   "source": [
    "print(t1[1])"
   ]
  },
  {
   "cell_type": "code",
   "execution_count": 4,
   "id": "a7bb9246",
   "metadata": {
    "ExecuteTime": {
     "end_time": "2022-03-23T11:09:00.603880Z",
     "start_time": "2022-03-23T11:09:00.599730Z"
    }
   },
   "outputs": [
    {
     "name": "stdout",
     "output_type": "stream",
     "text": [
      "['gener', 'febrer', 'març']\n"
     ]
    }
   ],
   "source": [
    "print(t1)"
   ]
  },
  {
   "cell_type": "code",
   "execution_count": 5,
   "id": "6a8a42bd",
   "metadata": {
    "ExecuteTime": {
     "end_time": "2022-03-23T11:09:02.347042Z",
     "start_time": "2022-03-23T11:09:02.343116Z"
    }
   },
   "outputs": [
    {
     "name": "stdout",
     "output_type": "stream",
     "text": [
      "setembre octubre\n"
     ]
    }
   ],
   "source": [
    "print(t3[2], t4[0])"
   ]
  },
  {
   "cell_type": "markdown",
   "id": "2dea7845",
   "metadata": {},
   "source": [
    "# Exercici 3\n",
    "\n",
    "Crea una llista amb nombres desordenats i respon a les següents preguntes:\n",
    "\n",
    "* Quants números hi ha?\n",
    "* Quantes vegades apareix el número 3\n",
    "* Quantes vegades apareixen els nombres 3 i 4?\n",
    "* Quin és el número més gran?\n",
    "* Quins són els 3 números més petits?\n",
    "* Quin és el rang d’aquesta llista?"
   ]
  },
  {
   "cell_type": "code",
   "execution_count": 6,
   "id": "bb76c0aa",
   "metadata": {
    "ExecuteTime": {
     "end_time": "2022-03-23T11:09:04.865863Z",
     "start_time": "2022-03-23T11:09:04.860835Z"
    }
   },
   "outputs": [],
   "source": [
    "numeros = [1,-1,2,4,6,3,3,3,3,7,4,8,67]"
   ]
  },
  {
   "cell_type": "code",
   "execution_count": 7,
   "id": "9f19f352",
   "metadata": {
    "ExecuteTime": {
     "end_time": "2022-03-23T11:09:06.460270Z",
     "start_time": "2022-03-23T11:09:06.455109Z"
    },
    "scrolled": true
   },
   "outputs": [
    {
     "name": "stdout",
     "output_type": "stream",
     "text": [
      "[1, -1, 2, 4, 6, 3, 3, 3, 3, 7, 4, 8, 67]\n"
     ]
    }
   ],
   "source": [
    "print(numeros)"
   ]
  },
  {
   "cell_type": "code",
   "execution_count": 8,
   "id": "ba57a712",
   "metadata": {
    "ExecuteTime": {
     "end_time": "2022-03-23T11:09:34.520312Z",
     "start_time": "2022-03-23T11:09:34.501002Z"
    }
   },
   "outputs": [
    {
     "data": {
      "text/plain": [
       "13"
      ]
     },
     "execution_count": 8,
     "metadata": {},
     "output_type": "execute_result"
    }
   ],
   "source": [
    "len(numeros)"
   ]
  },
  {
   "cell_type": "code",
   "execution_count": 9,
   "id": "06bd72f8",
   "metadata": {
    "ExecuteTime": {
     "end_time": "2022-03-23T11:09:36.336335Z",
     "start_time": "2022-03-23T11:09:36.331345Z"
    }
   },
   "outputs": [
    {
     "data": {
      "text/plain": [
       "4"
      ]
     },
     "execution_count": 9,
     "metadata": {},
     "output_type": "execute_result"
    }
   ],
   "source": [
    "numeros.count(3)"
   ]
  },
  {
   "cell_type": "code",
   "execution_count": 10,
   "id": "7d5b2813",
   "metadata": {
    "ExecuteTime": {
     "end_time": "2022-03-23T11:09:40.189514Z",
     "start_time": "2022-03-23T11:09:40.183818Z"
    }
   },
   "outputs": [
    {
     "name": "stdout",
     "output_type": "stream",
     "text": [
      "The count of 3 is: 4\n",
      "The count of 4 is: 2\n"
     ]
    }
   ],
   "source": [
    "count = numeros.count(3)\n",
    "print('The count of 3 is:', count)\n",
    "\n",
    "count = numeros.count(4)\n",
    "print('The count of 4 is:', count)"
   ]
  },
  {
   "cell_type": "code",
   "execution_count": 11,
   "id": "d6592d3a",
   "metadata": {
    "ExecuteTime": {
     "end_time": "2022-03-23T11:09:42.027784Z",
     "start_time": "2022-03-23T11:09:42.022739Z"
    }
   },
   "outputs": [
    {
     "data": {
      "text/plain": [
       "67"
      ]
     },
     "execution_count": 11,
     "metadata": {},
     "output_type": "execute_result"
    }
   ],
   "source": [
    "max(numeros)"
   ]
  },
  {
   "cell_type": "code",
   "execution_count": 12,
   "id": "2888fc5b",
   "metadata": {
    "ExecuteTime": {
     "end_time": "2022-03-23T11:09:43.761529Z",
     "start_time": "2022-03-23T11:09:43.756850Z"
    }
   },
   "outputs": [
    {
     "name": "stdout",
     "output_type": "stream",
     "text": [
      "-1 1 2\n"
     ]
    }
   ],
   "source": [
    "numeros.sort()\n",
    "print(numeros[0], numeros[1], numeros[2])"
   ]
  },
  {
   "cell_type": "code",
   "execution_count": 13,
   "id": "41010519",
   "metadata": {
    "ExecuteTime": {
     "end_time": "2022-03-23T11:09:46.447026Z",
     "start_time": "2022-03-23T11:09:45.670987Z"
    }
   },
   "outputs": [
    {
     "name": "stdout",
     "output_type": "stream",
     "text": [
      "[-1  1  2]\n"
     ]
    }
   ],
   "source": [
    "import numpy as np\n",
    "\n",
    "arr = np.array([1,-1,2,4,6,3,3,3,3,7,4,8,67])\n",
    "arr.sort()\n",
    "\n",
    "print(arr[:3])"
   ]
  },
  {
   "cell_type": "code",
   "execution_count": 16,
   "id": "49440db5",
   "metadata": {
    "ExecuteTime": {
     "end_time": "2022-03-23T11:10:47.815485Z",
     "start_time": "2022-03-23T11:10:47.809626Z"
    }
   },
   "outputs": [
    {
     "name": "stdout",
     "output_type": "stream",
     "text": [
      "68\n"
     ]
    }
   ],
   "source": [
    "print(numeros[12] - numeros[0])"
   ]
  },
  {
   "cell_type": "markdown",
   "id": "6b88e015",
   "metadata": {},
   "source": [
    "# Exercici 4\n",
    "\n",
    "Crea un diccionari de la següent forma i respon a les preguntes:\n",
    "\n",
    "compra = { \"Pomes\" : {\"Qty\": 5, \"€\": 0.42}, \"Peres\" : {\"Qty\": 3, \"€\": 0.66} }\n",
    "\n",
    "* Afegeix alguna fruita més\n",
    "* Quant han costat les peres en total?\n",
    "* Quantes fruites hem comprat en total?\n",
    "* Quina és la fruita més cara?"
   ]
  },
  {
   "cell_type": "code",
   "execution_count": 82,
   "id": "da6b7aef",
   "metadata": {
    "ExecuteTime": {
     "end_time": "2022-03-24T10:19:26.284316Z",
     "start_time": "2022-03-24T10:19:26.278325Z"
    }
   },
   "outputs": [
    {
     "name": "stdout",
     "output_type": "stream",
     "text": [
      "{'Qty': 5, 'Preu': 0.42}\n",
      "{'Qty': 3, 'Preu': 0.66}\n"
     ]
    }
   ],
   "source": [
    "Pomes = {\n",
    "    \"Qty\": 5, \n",
    "    \"Preu\": 0.42\n",
    "} \n",
    "Peres = {\n",
    "    \"Qty\": 3, \n",
    "    \"Preu\": 0.66\n",
    "}\n",
    "print(Pomes)\n",
    "print(Peres)"
   ]
  },
  {
   "cell_type": "code",
   "execution_count": 83,
   "id": "04212da5",
   "metadata": {
    "ExecuteTime": {
     "end_time": "2022-03-24T10:19:28.289947Z",
     "start_time": "2022-03-24T10:19:28.286560Z"
    },
    "scrolled": true
   },
   "outputs": [
    {
     "name": "stdout",
     "output_type": "stream",
     "text": [
      "{}\n"
     ]
    }
   ],
   "source": [
    "compra = {}\n",
    "print(compra)"
   ]
  },
  {
   "cell_type": "code",
   "execution_count": 84,
   "id": "85928dba",
   "metadata": {
    "ExecuteTime": {
     "end_time": "2022-03-24T10:19:29.750861Z",
     "start_time": "2022-03-24T10:19:29.745969Z"
    }
   },
   "outputs": [
    {
     "name": "stdout",
     "output_type": "stream",
     "text": [
      "{'Pomes': {'Qty': 5, 'Preu': 0.42}, 'Peres': {'Qty': 3, 'Preu': 0.66}}\n"
     ]
    }
   ],
   "source": [
    "compra = {\n",
    "    \"Pomes\" : Pomes,\n",
    "    \"Peres\" : Peres,\n",
    "}\n",
    "print(compra)"
   ]
  },
  {
   "cell_type": "code",
   "execution_count": 85,
   "id": "cf7434bb",
   "metadata": {
    "ExecuteTime": {
     "end_time": "2022-03-24T10:19:31.677740Z",
     "start_time": "2022-03-24T10:19:31.673454Z"
    }
   },
   "outputs": [
    {
     "name": "stdout",
     "output_type": "stream",
     "text": [
      "{'Qty': 6, 'Preu': 0.55}\n"
     ]
    }
   ],
   "source": [
    "Mandarines = {\n",
    "    \"Qty\": 6, \n",
    "    \"Preu\": 0.55\n",
    "}\n",
    "print(Mandarines)\n"
   ]
  },
  {
   "cell_type": "code",
   "execution_count": 86,
   "id": "9a99e575",
   "metadata": {
    "ExecuteTime": {
     "end_time": "2022-03-24T10:19:35.005356Z",
     "start_time": "2022-03-24T10:19:35.000502Z"
    }
   },
   "outputs": [
    {
     "name": "stdout",
     "output_type": "stream",
     "text": [
      "{'Qty': 22, 'Preu': 0.22}\n"
     ]
    }
   ],
   "source": [
    "Maduixes = {\n",
    "    \"Qty\": 22, \n",
    "    \"Preu\": 0.22\n",
    "}\n",
    "print(Maduixes)\n"
   ]
  },
  {
   "cell_type": "code",
   "execution_count": 87,
   "id": "f03af346",
   "metadata": {
    "ExecuteTime": {
     "end_time": "2022-03-24T10:19:37.078083Z",
     "start_time": "2022-03-24T10:19:37.073672Z"
    }
   },
   "outputs": [
    {
     "name": "stdout",
     "output_type": "stream",
     "text": [
      "{'Pomes': {'Qty': 5, 'Preu': 0.42}, 'Peres': {'Qty': 3, 'Preu': 0.66}, 'Mandarines': {'Qty': 6, 'Preu': 0.55}, 'Maduixes': {'Qty': 22, 'Preu': 0.22}}\n"
     ]
    }
   ],
   "source": [
    "compra = {\n",
    "    \"Pomes\" : Pomes,\n",
    "    \"Peres\" : Peres,\n",
    "    \"Mandarines\" : Mandarines,\n",
    "    \"Maduixes\" : Maduixes,\n",
    "}\n",
    "print(compra)\n"
   ]
  },
  {
   "cell_type": "code",
   "execution_count": 88,
   "id": "16dcf722",
   "metadata": {
    "ExecuteTime": {
     "end_time": "2022-03-24T10:19:39.435967Z",
     "start_time": "2022-03-24T10:19:39.429043Z"
    }
   },
   "outputs": [
    {
     "name": "stdout",
     "output_type": "stream",
     "text": [
      "El preu de 3 peres és 1.98 €\n"
     ]
    }
   ],
   "source": [
    "PreuPeres = Peres[\"Qty\"] * Peres[\"Preu\"]\n",
    "print (\"El preu de 3 peres és\", PreuPeres, \"€\")"
   ]
  },
  {
   "cell_type": "code",
   "execution_count": 89,
   "id": "c9b93a0a",
   "metadata": {
    "ExecuteTime": {
     "end_time": "2022-03-24T10:19:41.735148Z",
     "start_time": "2022-03-24T10:19:41.730474Z"
    }
   },
   "outputs": [
    {
     "name": "stdout",
     "output_type": "stream",
     "text": [
      "En total comprarem 36 peces de fruita\n"
     ]
    }
   ],
   "source": [
    "TotalFruites = Pomes[\"Qty\"] + Peres[\"Qty\"] + Mandarines[\"Qty\"] + Maduixes[\"Qty\"]\n",
    "print(\"En total comprarem\", TotalFruites, \"peces de fruita\")"
   ]
  },
  {
   "cell_type": "code",
   "execution_count": 113,
   "id": "4f394792",
   "metadata": {
    "ExecuteTime": {
     "end_time": "2022-03-24T10:27:50.952511Z",
     "start_time": "2022-03-24T10:27:50.947602Z"
    }
   },
   "outputs": [
    {
     "name": "stdout",
     "output_type": "stream",
     "text": [
      "0.66 0.42 0.22 0.55\n"
     ]
    }
   ],
   "source": [
    "a=Peres[\"Preu\"]\n",
    "b=Pomes[\"Preu\"]\n",
    "c=Maduixes[\"Preu\"]\n",
    "d=Mandarines[\"Preu\"]\n",
    "\n",
    "print (a,b,c,d)"
   ]
  },
  {
   "cell_type": "code",
   "execution_count": 114,
   "id": "8b54e458",
   "metadata": {
    "ExecuteTime": {
     "end_time": "2022-03-24T10:27:52.837996Z",
     "start_time": "2022-03-24T10:27:52.834033Z"
    }
   },
   "outputs": [
    {
     "name": "stdout",
     "output_type": "stream",
     "text": [
      "[0.66, 0.42, 0.22, 0.55]\n"
     ]
    }
   ],
   "source": [
    "Preus=[a,b,c,d]\n",
    "print(Preus)"
   ]
  },
  {
   "cell_type": "code",
   "execution_count": 115,
   "id": "1089a4cc",
   "metadata": {
    "ExecuteTime": {
     "end_time": "2022-03-24T10:27:53.966512Z",
     "start_time": "2022-03-24T10:27:53.961888Z"
    }
   },
   "outputs": [
    {
     "data": {
      "text/plain": [
       "0.66"
      ]
     },
     "execution_count": 115,
     "metadata": {},
     "output_type": "execute_result"
    }
   ],
   "source": [
    "max(Preus)\n",
    "\n"
   ]
  }
 ],
 "metadata": {
  "kernelspec": {
   "display_name": "Python 3 (ipykernel)",
   "language": "python",
   "name": "python3"
  },
  "language_info": {
   "codemirror_mode": {
    "name": "ipython",
    "version": 3
   },
   "file_extension": ".py",
   "mimetype": "text/x-python",
   "name": "python",
   "nbconvert_exporter": "python",
   "pygments_lexer": "ipython3",
   "version": "3.9.7"
  }
 },
 "nbformat": 4,
 "nbformat_minor": 5
}
